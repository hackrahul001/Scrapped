{
 "cells": [
  {
   "cell_type": "code",
   "execution_count": 73,
   "metadata": {},
   "outputs": [],
   "source": [
    "from bs4 import BeautifulSoup as soup"
   ]
  },
  {
   "cell_type": "code",
   "execution_count": 74,
   "metadata": {},
   "outputs": [],
   "source": [
    "from requests import get"
   ]
  },
  {
   "cell_type": "code",
   "execution_count": 75,
   "metadata": {},
   "outputs": [],
   "source": [
    "url = 'https://www.flipkart.com/search?q=iphone&marketplace=FLIPKART&otracker=start&as-show=on&as=off'\n"
   ]
  },
  {
   "cell_type": "code",
   "execution_count": 76,
   "metadata": {},
   "outputs": [],
   "source": [
    "response = get(url)"
   ]
  },
  {
   "cell_type": "code",
   "execution_count": 77,
   "metadata": {},
   "outputs": [],
   "source": [
    "page_soup = soup(response.text,'html.parser')"
   ]
  },
  {
   "cell_type": "code",
   "execution_count": 78,
   "metadata": {},
   "outputs": [],
   "source": [
    "containers = page_soup.findAll('div',{\"class\":\"_1UoZlX\"})"
   ]
  },
  {
   "cell_type": "code",
   "execution_count": 79,
   "metadata": {},
   "outputs": [
    {
     "data": {
      "text/plain": [
       "24"
      ]
     },
     "execution_count": 79,
     "metadata": {},
     "output_type": "execute_result"
    }
   ],
   "source": [
    "len(containers)"
   ]
  },
  {
   "cell_type": "code",
   "execution_count": 80,
   "metadata": {},
   "outputs": [],
   "source": [
    "container = containers[0]"
   ]
  },
  {
   "cell_type": "code",
   "execution_count": 81,
   "metadata": {},
   "outputs": [],
   "source": [
    "product_name = container.img['alt']"
   ]
  },
  {
   "cell_type": "code",
   "execution_count": 82,
   "metadata": {},
   "outputs": [
    {
     "data": {
      "text/plain": [
       "'Apple iPhone 6 (Gold, 32 GB)'"
      ]
     },
     "execution_count": 82,
     "metadata": {},
     "output_type": "execute_result"
    }
   ],
   "source": [
    "product_name"
   ]
  },
  {
   "cell_type": "code",
   "execution_count": 83,
   "metadata": {},
   "outputs": [],
   "source": [
    "price = container.findAll('div',{'class':'_1vC4OE _2rQ-NK'})"
   ]
  },
  {
   "cell_type": "code",
   "execution_count": 84,
   "metadata": {},
   "outputs": [
    {
     "data": {
      "text/plain": [
       "'₹24,999'"
      ]
     },
     "execution_count": 84,
     "metadata": {},
     "output_type": "execute_result"
    }
   ],
   "source": [
    "price[0].text\n"
   ]
  },
  {
   "cell_type": "code",
   "execution_count": 85,
   "metadata": {},
   "outputs": [],
   "source": [
    "rating = container.findAll('div',{'class':'hGSR34 _2beYZw'})"
   ]
  },
  {
   "cell_type": "code",
   "execution_count": 86,
   "metadata": {},
   "outputs": [
    {
     "data": {
      "text/plain": [
       "'4.4 ★'"
      ]
     },
     "execution_count": 86,
     "metadata": {},
     "output_type": "execute_result"
    }
   ],
   "source": [
    "rating[0].text"
   ]
  },
  {
   "cell_type": "code",
   "execution_count": 87,
   "metadata": {},
   "outputs": [],
   "source": [
    "fileName = 'product.csv'\n",
    "f = open(fileName,'w')"
   ]
  },
  {
   "cell_type": "code",
   "execution_count": 88,
   "metadata": {},
   "outputs": [],
   "source": [
    "headers = 'productName,pricing,rating\\n'"
   ]
  },
  {
   "cell_type": "code",
   "execution_count": 89,
   "metadata": {},
   "outputs": [
    {
     "data": {
      "text/plain": [
       "27"
      ]
     },
     "execution_count": 89,
     "metadata": {},
     "output_type": "execute_result"
    }
   ],
   "source": [
    "f.write(headers)"
   ]
  },
  {
   "cell_type": "code",
   "execution_count": 90,
   "metadata": {},
   "outputs": [],
   "source": [
    "for container in containers:\n",
    "    product_name = container.img['alt']\n",
    "    price_container = container.findAll('div',{'class':'_1vC4OE _2rQ-NK'})\n",
    "    price = price_container[0].text.split(',')\n",
    "    price = price[0]+price[1]\n",
    "    rating_container = container.findAll('div',{'class':'hGSR34 _2beYZw'})\n",
    "    rating = rating_container[0].text\n",
    "    \n",
    "    f.write(product_name +','+ price +','+ rating +'\\n')\n",
    "f.close()"
   ]
  },
  {
   "cell_type": "code",
   "execution_count": 91,
   "metadata": {},
   "outputs": [],
   "source": [
    "import pandas as pd"
   ]
  },
  {
   "cell_type": "code",
   "execution_count": 92,
   "metadata": {},
   "outputs": [],
   "source": [
    "df = pd.read_csv('product.csv')"
   ]
  },
  {
   "cell_type": "code",
   "execution_count": 93,
   "metadata": {},
   "outputs": [
    {
     "data": {
      "text/plain": [
       "(24, 3)"
      ]
     },
     "execution_count": 93,
     "metadata": {},
     "output_type": "execute_result"
    }
   ],
   "source": [
    "df.shape"
   ]
  },
  {
   "cell_type": "code",
   "execution_count": 94,
   "metadata": {},
   "outputs": [
    {
     "data": {
      "text/html": [
       "<div>\n",
       "<style scoped>\n",
       "    .dataframe tbody tr th:only-of-type {\n",
       "        vertical-align: middle;\n",
       "    }\n",
       "\n",
       "    .dataframe tbody tr th {\n",
       "        vertical-align: top;\n",
       "    }\n",
       "\n",
       "    .dataframe thead th {\n",
       "        text-align: right;\n",
       "    }\n",
       "</style>\n",
       "<table border=\"1\" class=\"dataframe\">\n",
       "  <thead>\n",
       "    <tr style=\"text-align: right;\">\n",
       "      <th></th>\n",
       "      <th>productName</th>\n",
       "      <th>pricing</th>\n",
       "      <th>rating</th>\n",
       "    </tr>\n",
       "  </thead>\n",
       "  <tbody>\n",
       "    <tr>\n",
       "      <th>Apple iPhone 6 (Gold</th>\n",
       "      <td>32 GB)</td>\n",
       "      <td>₹24999</td>\n",
       "      <td>4.4 ★</td>\n",
       "    </tr>\n",
       "    <tr>\n",
       "      <th>Apple iPhone SE (Rose Gold</th>\n",
       "      <td>32 GB)</td>\n",
       "      <td>₹18999</td>\n",
       "      <td>4.4 ★</td>\n",
       "    </tr>\n",
       "    <tr>\n",
       "      <th>Apple iPhone 6 (Space Grey</th>\n",
       "      <td>32 GB)</td>\n",
       "      <td>₹24999</td>\n",
       "      <td>4.4 ★</td>\n",
       "    </tr>\n",
       "    <tr>\n",
       "      <th>Apple iPhone SE (Gold</th>\n",
       "      <td>32 GB)</td>\n",
       "      <td>₹18999</td>\n",
       "      <td>4.4 ★</td>\n",
       "    </tr>\n",
       "    <tr>\n",
       "      <th>Apple iPhone SE (Space Grey</th>\n",
       "      <td>32 GB)</td>\n",
       "      <td>₹19999</td>\n",
       "      <td>4.4 ★</td>\n",
       "    </tr>\n",
       "    <tr>\n",
       "      <th>Apple iPhone 6s (Space Grey</th>\n",
       "      <td>32 GB)</td>\n",
       "      <td>₹34999</td>\n",
       "      <td>4.4 ★</td>\n",
       "    </tr>\n",
       "    <tr>\n",
       "      <th>Apple iPhone X (Space Gray</th>\n",
       "      <td>64 GB)</td>\n",
       "      <td>₹85999</td>\n",
       "      <td>4.6 ★</td>\n",
       "    </tr>\n",
       "    <tr>\n",
       "      <th>Apple iPhone 6s Plus (Gold</th>\n",
       "      <td>32 GB)</td>\n",
       "      <td>₹40739</td>\n",
       "      <td>4.4 ★</td>\n",
       "    </tr>\n",
       "    <tr>\n",
       "      <th>Apple iPhone 6s (Rose Gold</th>\n",
       "      <td>32 GB)</td>\n",
       "      <td>₹35999</td>\n",
       "      <td>4.4 ★</td>\n",
       "    </tr>\n",
       "    <tr>\n",
       "      <th>Apple iPhone 7 (Jet Black</th>\n",
       "      <td>32 GB)</td>\n",
       "      <td>₹48999</td>\n",
       "      <td>4.5 ★</td>\n",
       "    </tr>\n",
       "    <tr>\n",
       "      <th>Apple iPhone 7 (Black</th>\n",
       "      <td>32 GB)</td>\n",
       "      <td>₹48999</td>\n",
       "      <td>4.5 ★</td>\n",
       "    </tr>\n",
       "    <tr>\n",
       "      <th>Apple iPhone 6s Plus (Space Grey</th>\n",
       "      <td>32 GB)</td>\n",
       "      <td>₹40880</td>\n",
       "      <td>4.5 ★</td>\n",
       "    </tr>\n",
       "    <tr>\n",
       "      <th>Apple iPhone 6s Plus (Rose Gold</th>\n",
       "      <td>32 GB)</td>\n",
       "      <td>₹57800</td>\n",
       "      <td>4.4 ★</td>\n",
       "    </tr>\n",
       "    <tr>\n",
       "      <th>Apple iPhone 6s (Silver</th>\n",
       "      <td>32 GB)</td>\n",
       "      <td>₹35999</td>\n",
       "      <td>4.4 ★</td>\n",
       "    </tr>\n",
       "    <tr>\n",
       "      <th>Apple iPhone 7 (Black</th>\n",
       "      <td>128 GB)</td>\n",
       "      <td>₹54999</td>\n",
       "      <td>4.6 ★</td>\n",
       "    </tr>\n",
       "    <tr>\n",
       "      <th>Apple iPhone 6s (Gold</th>\n",
       "      <td>32 GB)</td>\n",
       "      <td>₹35999</td>\n",
       "      <td>4.4 ★</td>\n",
       "    </tr>\n",
       "    <tr>\n",
       "      <th>Apple iPhone 7 (Rose Gold</th>\n",
       "      <td>32 GB)</td>\n",
       "      <td>₹47999</td>\n",
       "      <td>4.5 ★</td>\n",
       "    </tr>\n",
       "    <tr>\n",
       "      <th>Apple iPhone X (Space Gray</th>\n",
       "      <td>256 GB)</td>\n",
       "      <td>₹98999</td>\n",
       "      <td>4.6 ★</td>\n",
       "    </tr>\n",
       "    <tr>\n",
       "      <th>Apple iPhone SE (Silver</th>\n",
       "      <td>32 GB)</td>\n",
       "      <td>₹20999</td>\n",
       "      <td>4.4 ★</td>\n",
       "    </tr>\n",
       "    <tr>\n",
       "      <th>Apple iPhone SE (Rose Gold</th>\n",
       "      <td>128 GB)</td>\n",
       "      <td>₹28990</td>\n",
       "      <td>4.4 ★</td>\n",
       "    </tr>\n",
       "    <tr>\n",
       "      <th>Apple iPhone 7 (Gold</th>\n",
       "      <td>32 GB)</td>\n",
       "      <td>₹48999</td>\n",
       "      <td>4.5 ★</td>\n",
       "    </tr>\n",
       "    <tr>\n",
       "      <th>Apple iPhone 8 Plus (Space Grey</th>\n",
       "      <td>64 GB)</td>\n",
       "      <td>₹74999</td>\n",
       "      <td>4.6 ★</td>\n",
       "    </tr>\n",
       "    <tr>\n",
       "      <th>Apple iPhone 8 Plus (Gold</th>\n",
       "      <td>64 GB)</td>\n",
       "      <td>₹74999</td>\n",
       "      <td>4.6 ★</td>\n",
       "    </tr>\n",
       "    <tr>\n",
       "      <th>Apple iPhone 8 (PRODUCT)RED (Red</th>\n",
       "      <td>64 GB)</td>\n",
       "      <td>₹66999</td>\n",
       "      <td>5 ★</td>\n",
       "    </tr>\n",
       "  </tbody>\n",
       "</table>\n",
       "</div>"
      ],
      "text/plain": [
       "                                 productName pricing rating\n",
       "Apple iPhone 6 (Gold                  32 GB)  ₹24999  4.4 ★\n",
       "Apple iPhone SE (Rose Gold            32 GB)  ₹18999  4.4 ★\n",
       "Apple iPhone 6 (Space Grey            32 GB)  ₹24999  4.4 ★\n",
       "Apple iPhone SE (Gold                 32 GB)  ₹18999  4.4 ★\n",
       "Apple iPhone SE (Space Grey           32 GB)  ₹19999  4.4 ★\n",
       "Apple iPhone 6s (Space Grey           32 GB)  ₹34999  4.4 ★\n",
       "Apple iPhone X (Space Gray            64 GB)  ₹85999  4.6 ★\n",
       "Apple iPhone 6s Plus (Gold            32 GB)  ₹40739  4.4 ★\n",
       "Apple iPhone 6s (Rose Gold            32 GB)  ₹35999  4.4 ★\n",
       "Apple iPhone 7 (Jet Black             32 GB)  ₹48999  4.5 ★\n",
       "Apple iPhone 7 (Black                 32 GB)  ₹48999  4.5 ★\n",
       "Apple iPhone 6s Plus (Space Grey      32 GB)  ₹40880  4.5 ★\n",
       "Apple iPhone 6s Plus (Rose Gold       32 GB)  ₹57800  4.4 ★\n",
       "Apple iPhone 6s (Silver               32 GB)  ₹35999  4.4 ★\n",
       "Apple iPhone 7 (Black                128 GB)  ₹54999  4.6 ★\n",
       "Apple iPhone 6s (Gold                 32 GB)  ₹35999  4.4 ★\n",
       "Apple iPhone 7 (Rose Gold             32 GB)  ₹47999  4.5 ★\n",
       "Apple iPhone X (Space Gray           256 GB)  ₹98999  4.6 ★\n",
       "Apple iPhone SE (Silver               32 GB)  ₹20999  4.4 ★\n",
       "Apple iPhone SE (Rose Gold           128 GB)  ₹28990  4.4 ★\n",
       "Apple iPhone 7 (Gold                  32 GB)  ₹48999  4.5 ★\n",
       "Apple iPhone 8 Plus (Space Grey       64 GB)  ₹74999  4.6 ★\n",
       "Apple iPhone 8 Plus (Gold             64 GB)  ₹74999  4.6 ★\n",
       "Apple iPhone 8 (PRODUCT)RED (Red      64 GB)  ₹66999    5 ★"
      ]
     },
     "execution_count": 94,
     "metadata": {},
     "output_type": "execute_result"
    }
   ],
   "source": [
    "df"
   ]
  },
  {
   "cell_type": "code",
   "execution_count": null,
   "metadata": {},
   "outputs": [],
   "source": []
  }
 ],
 "metadata": {
  "kernelspec": {
   "display_name": "Python 3",
   "language": "python",
   "name": "python3"
  },
  "language_info": {
   "codemirror_mode": {
    "name": "ipython",
    "version": 3
   },
   "file_extension": ".py",
   "mimetype": "text/x-python",
   "name": "python",
   "nbconvert_exporter": "python",
   "pygments_lexer": "ipython3",
   "version": "3.6.4"
  }
 },
 "nbformat": 4,
 "nbformat_minor": 2
}
